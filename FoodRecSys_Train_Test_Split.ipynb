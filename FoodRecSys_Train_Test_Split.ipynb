{
  "cells": [
    {
      "cell_type": "markdown",
      "metadata": {
        "id": "htey1FpQcn3X"
      },
      "source": [
        "## Setup"
      ]
    },
    {
      "cell_type": "code",
      "execution_count": 1,
      "metadata": {
        "colab": {
          "base_uri": "https://localhost:8080/"
        },
        "outputId": "01980871-038d-4605-ac85-f67e1854fcf5",
        "id": "NRiDLBE1l-Dw"
      },
      "outputs": [
        {
          "output_type": "stream",
          "name": "stdout",
          "text": [
            "Mounted at /content/drive\n"
          ]
        }
      ],
      "source": [
        "import os\n",
        "# give googe drive the required permission\n",
        "from google.colab import drive\n",
        "drive.mount('/content/drive')"
      ]
    },
    {
      "cell_type": "code",
      "execution_count": 2,
      "metadata": {
        "colab": {
          "base_uri": "https://localhost:8080/",
          "height": 36
        },
        "outputId": "5151f1eb-27fb-4312-c8b3-a027b979bbc8",
        "id": "BwzVR59Ll-Dw"
      },
      "outputs": [
        {
          "output_type": "execute_result",
          "data": {
            "text/plain": [
              "'/content/drive/MyDrive/FoodRecSys'"
            ],
            "application/vnd.google.colaboratory.intrinsic+json": {
              "type": "string"
            }
          },
          "metadata": {},
          "execution_count": 2
        }
      ],
      "source": [
        "# Create a folder in your drive and add the name of that folder here.\n",
        "# For example, for the code below to run correctly, you need to have a folder named FoodRecSys in 'My Drive'.\n",
        "# The said folder will be your home directory for the rest of the project.\n",
        "# You will be able to save and read data from the folder.\n",
        "\n",
        "os.chdir(\"/content/drive/MyDrive/FoodRecSys/\")\n",
        "os.getcwd()"
      ]
    },
    {
      "cell_type": "code",
      "execution_count": 3,
      "metadata": {
        "colab": {
          "base_uri": "https://localhost:8080/",
          "height": 36
        },
        "id": "BpUqlBP89U8I",
        "outputId": "b25c2562-be4a-42be-be24-d898b8c5ec98"
      },
      "outputs": [
        {
          "output_type": "execute_result",
          "data": {
            "text/plain": [
              "'/content/drive/MyDrive/food_recsys_project/Code_Files'"
            ],
            "application/vnd.google.colaboratory.intrinsic+json": {
              "type": "string"
            }
          },
          "metadata": {},
          "execution_count": 3
        }
      ],
      "source": [
        "os.chdir(\"/content/drive/MyDrive/food_recsys_project/Code_Files/\")\n",
        "os.getcwd()"
      ]
    },
    {
      "cell_type": "code",
      "execution_count": 4,
      "metadata": {
        "colab": {
          "base_uri": "https://localhost:8080/"
        },
        "id": "zFl1W65u9U2q",
        "outputId": "af585259-71b2-4839-fa76-c6a67da14827"
      },
      "outputs": [
        {
          "output_type": "stream",
          "name": "stdout",
          "text": [
            "Collecting pyspark==3.1.2\n",
            "  Downloading pyspark-3.1.2.tar.gz (212.4 MB)\n",
            "\u001b[2K     \u001b[90m━━━━━━━━━━━━━━━━━━━━━━━━━━━━━━━━━━━━━━━━\u001b[0m \u001b[32m212.4/212.4 MB\u001b[0m \u001b[31m5.7 MB/s\u001b[0m eta \u001b[36m0:00:00\u001b[0m\n",
            "\u001b[?25h  Preparing metadata (setup.py) ... \u001b[?25l\u001b[?25hdone\n",
            "Collecting py4j==0.10.9 (from pyspark==3.1.2)\n",
            "  Downloading py4j-0.10.9-py2.py3-none-any.whl (198 kB)\n",
            "\u001b[2K     \u001b[90m━━━━━━━━━━━━━━━━━━━━━━━━━━━━━━━━━━━━━━━━\u001b[0m \u001b[32m198.6/198.6 kB\u001b[0m \u001b[31m16.8 MB/s\u001b[0m eta \u001b[36m0:00:00\u001b[0m\n",
            "\u001b[?25hBuilding wheels for collected packages: pyspark\n",
            "  Building wheel for pyspark (setup.py) ... \u001b[?25l\u001b[?25hdone\n",
            "  Created wheel for pyspark: filename=pyspark-3.1.2-py2.py3-none-any.whl size=212880745 sha256=bebbade96cb9a06eb73d0f4dfc65fde475adc02ec3c909ac977f319ce5f242e9\n",
            "  Stored in directory: /root/.cache/pip/wheels/ef/70/50/7882e1bcb5693225f7cc86698f10953201b48b3f36317c2d18\n",
            "Successfully built pyspark\n",
            "Installing collected packages: py4j, pyspark\n",
            "  Attempting uninstall: py4j\n",
            "    Found existing installation: py4j 0.10.9.7\n",
            "    Uninstalling py4j-0.10.9.7:\n",
            "      Successfully uninstalled py4j-0.10.9.7\n",
            "Successfully installed py4j-0.10.9 pyspark-3.1.2\n"
          ]
        }
      ],
      "source": [
        "try:\n",
        "  import pyspark\n",
        "except:\n",
        "  !pip install pyspark==3.1.2\n",
        "  import pyspark"
      ]
    },
    {
      "cell_type": "code",
      "source": [
        "from pyspark.sql import SparkSession\n",
        "from pyspark.context import SparkContext"
      ],
      "metadata": {
        "id": "oBvA-zmx2_vE"
      },
      "execution_count": 5,
      "outputs": []
    },
    {
      "cell_type": "code",
      "execution_count": 6,
      "metadata": {
        "id": "H07v5FBc9fW9"
      },
      "outputs": [],
      "source": [
        "spark = SparkSession.builder.master(\"local\").config('spark.ui.port', '4050').getOrCreate()"
      ]
    },
    {
      "cell_type": "code",
      "execution_count": 7,
      "metadata": {
        "colab": {
          "base_uri": "https://localhost:8080/",
          "height": 219
        },
        "id": "eqeHc0B_9nOG",
        "outputId": "92b6ca85-a06d-4768-d975-e814c12b6256"
      },
      "outputs": [
        {
          "output_type": "execute_result",
          "data": {
            "text/plain": [
              "<pyspark.sql.session.SparkSession at 0x7b9f242db580>"
            ],
            "text/html": [
              "\n",
              "            <div>\n",
              "                <p><b>SparkSession - in-memory</b></p>\n",
              "                \n",
              "        <div>\n",
              "            <p><b>SparkContext</b></p>\n",
              "\n",
              "            <p><a href=\"http://1a8d5732e2d6:4050\">Spark UI</a></p>\n",
              "\n",
              "            <dl>\n",
              "              <dt>Version</dt>\n",
              "                <dd><code>v3.1.2</code></dd>\n",
              "              <dt>Master</dt>\n",
              "                <dd><code>local</code></dd>\n",
              "              <dt>AppName</dt>\n",
              "                <dd><code>pyspark-shell</code></dd>\n",
              "            </dl>\n",
              "        </div>\n",
              "        \n",
              "            </div>\n",
              "        "
            ]
          },
          "metadata": {},
          "execution_count": 7
        }
      ],
      "source": [
        "spark"
      ]
    },
    {
      "cell_type": "markdown",
      "metadata": {
        "id": "OuQIGExwctpy"
      },
      "source": [
        "## Imports"
      ]
    },
    {
      "cell_type": "code",
      "execution_count": 8,
      "metadata": {
        "id": "QTo-V_Tt9eoN"
      },
      "outputs": [],
      "source": [
        "import pandas as pd\n",
        "import numpy as np\n",
        "\n",
        "from pyspark.sql import functions as F\n",
        "# Import for typecasting columns\n",
        "from pyspark.sql.types import IntegerType,BooleanType,DateType,FloatType,StringType, ArrayType"
      ]
    },
    {
      "cell_type": "markdown",
      "metadata": {
        "id": "lJbriFKH9AwM"
      },
      "source": [
        "## Read the data"
      ]
    },
    {
      "cell_type": "code",
      "execution_count": 9,
      "metadata": {
        "id": "6fBd-ymZ85_e"
      },
      "outputs": [],
      "source": [
        "raw_ratings_df = (spark.read.csv(\"/content/raw_ratings_small.csv\", # modify the path to read the data\n",
        "                                 header=True,\n",
        "                                 inferSchema= True))"
      ]
    },
    {
      "cell_type": "code",
      "source": [
        "raw_ratings_df.show()"
      ],
      "metadata": {
        "id": "An1bjXdpLL9i",
        "outputId": "6f048f0f-053d-409f-fd5f-12d8993b0191",
        "colab": {
          "base_uri": "https://localhost:8080/"
        }
      },
      "execution_count": 10,
      "outputs": [
        {
          "output_type": "stream",
          "name": "stdout",
          "text": [
            "+-------+---------+------+--------------------+-----------+\n",
            "|user_id|recipe_id|rating|              review|review_date|\n",
            "+-------+---------+------+--------------------+-----------+\n",
            "| 483827|   306785|     5|Being a  huge fan...| 2008-07-15|\n",
            "|   6258|    20930|     5|Jan  what an inte...| 2002-07-09|\n",
            "| 102602|    20930|     5|Jan  we love your...| 2003-10-26|\n",
            "| 296027|   182985|     4|Very nice fresh s...| 2007-05-19|\n",
            "|   9580|   208980|     5|I saw this on 30 ...| 2007-02-05|\n",
            "| 462571|   208980|     5|These were a snap...| 2007-07-05|\n",
            "| 376098|   208980|     5|This was great! M...| 2007-08-01|\n",
            "| 222139|   208980|     5|I chose this reci...| 2007-09-08|\n",
            "| 674484|   208980|     5|Since this is one...| 2008-09-15|\n",
            "|1251627|   208980|     5|This recipie was ...| 2009-06-23|\n",
            "| 456221|   208980|     5|This is a favorit...| 2010-02-20|\n",
            "| 229619|   208980|     5|I was flipping th...| 2011-06-26|\n",
            "| 280271|   219118|     4|This is so yummy....| 2008-11-09|\n",
            "| 305531|   219118|     4|Really good carro...| 2008-12-17|\n",
            "| 326970|   161899|     5|I made this Jamba...| 2006-10-27|\n",
            "|  44642|   190875|     0|Just posting  so ...| 2006-10-19|\n",
            "| 162191|   190875|     5|I loved this recipe.| 2006-10-20|\n",
            "| 450004|   241335|     4|We really enjoyed...| 2008-09-23|\n",
            "|  29782|   256397|     5|I absolutely LOVE...| 2007-11-05|\n",
            "| 865936|   278119|     5|I made this into ...| 2010-06-12|\n",
            "+-------+---------+------+--------------------+-----------+\n",
            "only showing top 20 rows\n",
            "\n"
          ]
        }
      ]
    },
    {
      "cell_type": "code",
      "execution_count": 11,
      "metadata": {
        "id": "dXuL1Sq09Akr"
      },
      "outputs": [],
      "source": [
        "raw_recipes_df = spark.read.csv(\"/content/raw_recipies_small.csv\", # modify the path to read the data\n",
        "                                header=True,\n",
        "                                inferSchema=True)"
      ]
    },
    {
      "cell_type": "code",
      "source": [
        "raw_recipes_df.show()"
      ],
      "metadata": {
        "id": "e6ry81cfLNHh",
        "outputId": "1ae7c757-9cec-4d89-ccc5-02817f73cca2",
        "colab": {
          "base_uri": "https://localhost:8080/"
        }
      },
      "execution_count": 12,
      "outputs": [
        {
          "output_type": "stream",
          "name": "stdout",
          "text": [
            "+--------------------+------+-------+--------------+----------+--------------------+--------------------+-------+--------------------+--------------------+--------------------+-------------+--------------+\n",
            "|                name|    id|minutes|contributor_id| submitted|                tags|           nutrition|n_steps|               steps|         description|         ingredients|n_ingredients|year_of_review|\n",
            "+--------------------+------+-------+--------------+----------+--------------------+--------------------+-------+--------------------+--------------------+--------------------+-------------+--------------+\n",
            "|beat this  banana...| 75452|     70|         15892|2003-11-04|['weeknight', 'ti...|[2669.3, 160.0, 9...|     12|['preheat oven to...|  from ann hodgman's|['sugar', 'unsalt...|            9|          2003|\n",
            "|      chinese  candy| 23933|     15|         35268|2002-03-29|['15-minutes-or-l...|[232.7, 21.0, 77....|      4|['melt butterscot...|a little differen...|['butterscotch ch...|            3|          2002|\n",
            "|cream  of caulifl...| 23850|    110|          3288|2002-03-28|['lactose', 'week...|[174.2, 4.0, 24.0...|     10|['heat the oil or...|this is a dairy free|['canola oil', 'o...|           16|          2002|\n",
            "|cream  of spinach...| 76808|     45|         95743|2003-11-17|['60-minutes-or-l...|[126.0, 11.0, 2.0...|      9|['bring water and...|wonderful comfort...|['water', 'salt',...|            8|          2003|\n",
            "|i can t believe i...| 33165|     30|         40493|2002-07-04|['30-minutes-or-l...|[152.5, 2.0, 20.0...|     12|['cut potatoes in...|the name says it ...|['red potatoes', ...|           13|          2002|\n",
            "|i stole the idea ...| 90921|     18|         15851|2004-05-10|['30-minutes-or-l...|[783.4, 46.0, 107...|      8|['in a large pot ...|i love mirj's fun...|['angel hair past...|            8|          2004|\n",
            "|keep it going  ge...| 26995|  14450|         37305|2002-04-30|['weeknight', 'ti...|[724.4, 38.0, 297...|     13|['mix starter ing...|yes  this sounds ...|['flour', 'water'...|           17|          2002|\n",
            "|mennonite  corn f...| 44045|     15|         41706|2002-10-25|['15-minutes-or-l...|[67.1, 7.0, 2.0, ...|      6|['combine eggs , ...|ok - my heritage ...|['fresh corn', 'e...|            8|          2002|\n",
            "|no bake  cookie c...| 71635|    135|         82367|2003-09-26|['weeknight', 'ti...|[387.6, 39.0, 98....|      8|['in blender , sp...|yet another one i...|['gelatin', 'milk...|            8|          2003|\n",
            "|one bowl  perfect...| 26835|     70|         37305|2002-04-29|['weeknight', 'ti...|[456.6, 32.0, 164...|      7|['preheat oven to...|this is the perfe...|['all-purpose flo...|            9|          2002|\n",
            "|open sesame  noodles|107229|     28|        173674|2004-12-30|['30-minutes-or-l...|[617.5, 34.0, 13....|      8|['cook pasta in s...|this is a very ve...|['vermicelli', 'r...|           12|          2004|\n",
            "|say what   banana...| 95926|      5|        118163|2004-07-20|['15-minutes-or-l...|[238.0, 3.0, 66.0...|      4|['spread a tables...|you just have to ...|['white bread', '...|            3|          2004|\n",
            "|smells like sunda...|103948|     90|         73836|2004-11-12|['time-to-make', ...|[692.2, 53.0, 16....|     20|['first of all ma...|like many family ...|['boneless skinle...|           15|          2004|\n",
            "|      sugared grapes| 39947|     15|         54631|2002-09-10|['15-minutes-or-l...|[140.4, 0.0, 133....|      5|['for one regular...|i first tasted th...|['green grape', '...|            3|          2002|\n",
            "|zupa ze swiezych ...|105069|     40|         51109|2004-11-30|['60-minutes-or-l...|[176.6, 19.0, 11....|     10|['wash and coarse...|posted in respons...|['wild mushrooms'...|           10|          2004|\n",
            "|1 asian noodle salad| 70099|     26|         75379|2003-09-02|['30-minutes-or-l...|[231.1, 7.0, 21.0...|      7|['bring a large p...|i am addicted to ...|['rice noodles', ...|           13|          2003|\n",
            "|1 brownies in the...|333281|     40|        985201|2008-10-27|['60-minutes-or-l...|[138.4, 10.0, 50....|     10|['heat the oven t...|these are the mos...|['bittersweet cho...|            9|          2008|\n",
            "|1 favorite chines...| 37841|     45|         51641|2002-08-20|['60-minutes-or-l...|[264.7, 41.0, 4.0...|     18|['clean and scale...|steamed whole fre...|['fish', 'scallio...|            9|          2002|\n",
            "|1 in canada choco...|453467|     45|       1848091|2011-04-11|['60-minutes-or-l...|[595.1, 46.0, 211...|     12|['pre-heat oven t...|this is the recip...|['white sugar', '...|           11|          2011|\n",
            "|250 00 chocolate ...|118843|     20|        145599|2005-04-24|['30-minutes-or-l...|[5286.9, 427.0, 1...|      3|['mix all ingredi...|these are great! ...|['butter', 'white...|           13|          2005|\n",
            "+--------------------+------+-------+--------------+----------+--------------------+--------------------+-------+--------------------+--------------------+--------------------+-------------+--------------+\n",
            "only showing top 20 rows\n",
            "\n"
          ]
        }
      ]
    },
    {
      "cell_type": "code",
      "source": [
        "assert (raw_recipes_df.count(), len(raw_recipes_df.columns)) == (20340, 13)\n",
        "assert (raw_ratings_df.count(), len(raw_ratings_df.columns)) == (93357, 5)"
      ],
      "metadata": {
        "id": "Mkaj1BabtAg1"
      },
      "execution_count": 13,
      "outputs": []
    },
    {
      "cell_type": "markdown",
      "metadata": {
        "id": "lILWFlP-9tKr"
      },
      "source": [
        "#### Decide a split date based on the ratings dataframe."
      ]
    },
    {
      "cell_type": "code",
      "execution_count": 14,
      "metadata": {
        "id": "COU5Qg1A-CT7",
        "outputId": "2f805c17-291d-4fc2-accd-e5912ee7a79b",
        "colab": {
          "base_uri": "https://localhost:8080/"
        }
      },
      "outputs": [
        {
          "output_type": "execute_result",
          "data": {
            "text/plain": [
              "93357"
            ]
          },
          "metadata": {},
          "execution_count": 14
        }
      ],
      "source": [
        "# Find the number of data points in the interaction dataset.\n",
        "# You can use the count() method.\n",
        "# The output must be an integer.\n",
        "\n",
        "num_review_int = raw_ratings_df.count()\n",
        "num_review_int"
      ]
    },
    {
      "cell_type": "markdown",
      "metadata": {
        "id": "Ea0ZeHC0JXjy"
      },
      "source": [
        "# Task 01 - Train Test Split\n",
        "\n",
        "Divide the data into train and test based on the 80 - 20 split using the approach discussed. You will have to save the data in a parquet file."
      ]
    },
    {
      "cell_type": "code",
      "source": [
        "train_num_reviews_int = round(num_review_int *0.8)\n",
        "train_num_reviews_int"
      ],
      "metadata": {
        "id": "xVA4a8axLpW7",
        "outputId": "39905c6b-7f7e-4848-bce3-c23ea2ffe943",
        "colab": {
          "base_uri": "https://localhost:8080/"
        }
      },
      "execution_count": 15,
      "outputs": [
        {
          "output_type": "execute_result",
          "data": {
            "text/plain": [
              "74686"
            ]
          },
          "metadata": {},
          "execution_count": 15
        }
      ]
    },
    {
      "cell_type": "code",
      "execution_count": 16,
      "metadata": {
        "id": "gz8RpPOo-CSO",
        "outputId": "f4e85bb5-bcfd-4898-af73-341ae5ef147e",
        "colab": {
          "base_uri": "https://localhost:8080/"
        }
      },
      "outputs": [
        {
          "output_type": "execute_result",
          "data": {
            "text/plain": [
              "18671"
            ]
          },
          "metadata": {},
          "execution_count": 16
        }
      ],
      "source": [
        "test_num_reviews_int = round(num_review_int *0.2)\n",
        "test_num_reviews_int"
      ]
    },
    {
      "cell_type": "code",
      "execution_count": 17,
      "metadata": {
        "id": "1uBP9W-t-CPm"
      },
      "outputs": [],
      "source": [
        "# Sort the interactions dataset in descending order of review date.\n",
        "# Extract ```test_num_reviews_int``` most recent reviews.\n",
        "\n",
        "temp_ratings_df = (raw_ratings_df.sort(\"review_date\", ascending=False)\n",
        "                                 .limit(test_num_reviews_int)\n",
        "                  )"
      ]
    },
    {
      "cell_type": "code",
      "source": [
        "assert temp_ratings_df.count()  == 18671\n",
        "assert raw_recipes_df.collect()[11][4] <= raw_recipes_df.collect()[10][4]"
      ],
      "metadata": {
        "id": "TxxjUoxvtJta"
      },
      "execution_count": 18,
      "outputs": []
    },
    {
      "cell_type": "code",
      "execution_count": 19,
      "metadata": {
        "colab": {
          "base_uri": "https://localhost:8080/",
          "height": 36
        },
        "id": "vC5khu2X-CIj",
        "outputId": "548b3fa6-e94a-4057-ba1d-406dcd5efe33"
      },
      "outputs": [
        {
          "output_type": "execute_result",
          "data": {
            "text/plain": [
              "'2011-07-17'"
            ],
            "application/vnd.google.colaboratory.intrinsic+json": {
              "type": "string"
            }
          },
          "metadata": {},
          "execution_count": 19
        }
      ],
      "source": [
        "temp_ratings_df.collect()[-1][4]"
      ]
    },
    {
      "cell_type": "markdown",
      "metadata": {
        "id": "ZTKyBLjFJTmr"
      },
      "source": [
        "Split the data into two parts before and after 2011-07-17.\n",
        "\n",
        "- All reviews in the ratings data after 2011-07-17 will not exsist in the training set.\n",
        "- For all future predictions the date will be set at 2011-07-18.   "
      ]
    },
    {
      "cell_type": "code",
      "execution_count": 20,
      "metadata": {
        "id": "cCuNwQMEhBPi"
      },
      "outputs": [],
      "source": [
        "# Join raw_recipes and raw_ratings\n",
        "# Use recipe_id as the key to join these dataframes\n",
        "# The resulting dataframe must have all rows from the raw_ratings dataframe.\n",
        "\n",
        "interaction_level_df = raw_ratings_df.join(raw_recipes_df,\n",
        "                                           raw_ratings_df.recipe_id == raw_recipes_df.id\n",
        "                                          )"
      ]
    },
    {
      "cell_type": "code",
      "source": [
        "interaction_level_df.show()"
      ],
      "metadata": {
        "id": "xx3MyIszMYZK",
        "outputId": "10b90dff-922d-4ced-c0c8-d8d791994aac",
        "colab": {
          "base_uri": "https://localhost:8080/"
        }
      },
      "execution_count": 21,
      "outputs": [
        {
          "output_type": "stream",
          "name": "stdout",
          "text": [
            "+----------+---------+------+--------------------+-----------+--------------------+-----+-------+--------------+----------+--------------------+--------------------+-------+--------------------+--------------------+--------------------+-------------+--------------+\n",
            "|   user_id|recipe_id|rating|              review|review_date|                name|   id|minutes|contributor_id| submitted|                tags|           nutrition|n_steps|               steps|         description|         ingredients|n_ingredients|year_of_review|\n",
            "+----------+---------+------+--------------------+-----------+--------------------+-----+-------+--------------+----------+--------------------+--------------------+-------+--------------------+--------------------+--------------------+-------------+--------------+\n",
            "|    152552|    29601|     5|Excellent. It was...| 2004-08-20|zippy cold spicy ...|29601|    270|         30367|2002-05-29|['time-to-make', ...|[277.2, 15.0, 13....|     12|['in a heavy 10-i...|shrimp drink in t...|['oil', 'medium s...|           11|          2002|\n",
            "|     16334|    33602|     5|So easy my husban...| 2002-12-20|zucchini with oni...|33602|     50|         23302|2002-07-08|['60-minutes-or-l...|[84.4, 5.0, 28.0,...|      5|['melt the butter...|                null|['unsalted butter...|            6|          2002|\n",
            "|     31635|    33602|     4|Absolutely delici...| 2005-06-03|zucchini with oni...|33602|     50|         23302|2002-07-08|['60-minutes-or-l...|[84.4, 5.0, 28.0,...|      5|['melt the butter...|                null|['unsalted butter...|            6|          2002|\n",
            "|     35526|    33602|     5|We really liked t...| 2005-11-09|zucchini with oni...|33602|     50|         23302|2002-07-08|['60-minutes-or-l...|[84.4, 5.0, 28.0,...|      5|['melt the butter...|                null|['unsalted butter...|            6|          2002|\n",
            "|     48107|    35912|     4|The quiche was ve...| 2002-12-24|cheesy bacon   sa...|35912|     75|         45698|2002-08-02|['bacon', 'weekni...|[4123.9, 503.0, 2...|     13|['preheat oven to...|neat breakfast (o...|['breakfast sausa...|            9|          2002|\n",
            "|    141980|    35912|     4|I made this over ...| 2004-06-06|cheesy bacon   sa...|35912|     75|         45698|2002-08-02|['bacon', 'weekni...|[4123.9, 503.0, 2...|     13|['preheat oven to...|neat breakfast (o...|['breakfast sausa...|            9|          2002|\n",
            "|     60989|    35912|     5|Perfect quiche. E...| 2006-11-07|cheesy bacon   sa...|35912|     75|         45698|2002-08-02|['bacon', 'weekni...|[4123.9, 503.0, 2...|     13|['preheat oven to...|neat breakfast (o...|['breakfast sausa...|            9|          2002|\n",
            "|    537937|    35912|     5|Thanks Ocean for ...| 2008-02-03|cheesy bacon   sa...|35912|     75|         45698|2002-08-02|['bacon', 'weekni...|[4123.9, 503.0, 2...|     13|['preheat oven to...|neat breakfast (o...|['breakfast sausa...|            9|          2002|\n",
            "|1802380878|    35912|     0|I pretty much fol...| 2014-01-19|cheesy bacon   sa...|35912|     75|         45698|2002-08-02|['bacon', 'weekni...|[4123.9, 503.0, 2...|     13|['preheat oven to...|neat breakfast (o...|['breakfast sausa...|            9|          2002|\n",
            "|     53378|    40335|     5|You are right  th...| 2002-10-05|emeril s tater to...|40335|     55|          3288|2002-09-16|['celebrity', 'ha...|[1258.0, 129.0, 2...|      8|['preheat the ove...|got this kid frie...|['butter', 'eggs'...|            9|          2002|\n",
            "|     57562|    40335|     3|I would rate this...| 2002-11-02|emeril s tater to...|40335|     55|          3288|2002-09-16|['celebrity', 'ha...|[1258.0, 129.0, 2...|      8|['preheat the ove...|got this kid frie...|['butter', 'eggs'...|            9|          2002|\n",
            "|     47230|    40335|     5|YUMMY!! These tat...| 2002-11-09|emeril s tater to...|40335|     55|          3288|2002-09-16|['celebrity', 'ha...|[1258.0, 129.0, 2...|      8|['preheat the ove...|got this kid frie...|['butter', 'eggs'...|            9|          2002|\n",
            "|     55536|    40335|     4|Great tasting dis...| 2003-08-17|emeril s tater to...|40335|     55|          3288|2002-09-16|['celebrity', 'ha...|[1258.0, 129.0, 2...|      8|['preheat the ove...|got this kid frie...|['butter', 'eggs'...|            9|          2002|\n",
            "|2001602879|    40335|     5|Using the feedbac...| 2017-06-27|emeril s tater to...|40335|     55|          3288|2002-09-16|['celebrity', 'ha...|[1258.0, 129.0, 2...|      8|['preheat the ove...|got this kid frie...|['butter', 'eggs'...|            9|          2002|\n",
            "|     14823|    40386|     5|This was very goo...| 2002-10-16|egg and bacon cas...|40386|     60|         50997|2002-09-16|['60-minutes-or-l...|[4272.4, 523.0, 1...|      9|['place butter in...|breakfast is our ...|['butter', 'crout...|            7|          2002|\n",
            "|     91383|    40386|     4|I cooked this the...| 2003-07-02|egg and bacon cas...|40386|     60|         50997|2002-09-16|['60-minutes-or-l...|[4272.4, 523.0, 1...|      9|['place butter in...|breakfast is our ...|['butter', 'crout...|            7|          2002|\n",
            "|     21443|    40386|     4|My children gave ...| 2005-03-21|egg and bacon cas...|40386|     60|         50997|2002-09-16|['60-minutes-or-l...|[4272.4, 523.0, 1...|      9|['place butter in...|breakfast is our ...|['butter', 'crout...|            7|          2002|\n",
            "|    153188|    40386|     4|This was super go...| 2007-10-19|egg and bacon cas...|40386|     60|         50997|2002-09-16|['60-minutes-or-l...|[4272.4, 523.0, 1...|      9|['place butter in...|breakfast is our ...|['butter', 'crout...|            7|          2002|\n",
            "|     53391|    50348|     5|This is a refresh...| 2003-02-05|pineapple yogurt ...|50348|     35|         61388|2003-01-08|['60-minutes-or-l...|[277.2, 2.0, 224....|      3|['mix yogurt and ...|this recipe is fr...|['low-fat plain y...|            3|          2003|\n",
            "|    142361|    50348|     4|This is very good...| 2007-02-26|pineapple yogurt ...|50348|     35|         61388|2003-01-08|['60-minutes-or-l...|[277.2, 2.0, 224....|      3|['mix yogurt and ...|this recipe is fr...|['low-fat plain y...|            3|          2003|\n",
            "+----------+---------+------+--------------------+-----------+--------------------+-----+-------+--------------+----------+--------------------+--------------------+-------+--------------------+--------------------+--------------------+-------------+--------------+\n",
            "only showing top 20 rows\n",
            "\n"
          ]
        }
      ]
    },
    {
      "cell_type": "code",
      "execution_count": 22,
      "metadata": {
        "id": "orclWiSCKkw7"
      },
      "outputs": [],
      "source": [
        "# Use the filter command to separate the datasets.\n",
        "# All interactions which were rated BEFORE '2011-07-17' will be train data.\n",
        "\n",
        "train_interaction_level_df  = (interaction_level_df.filter(interaction_level_df.review_date < '2011-07-17'))# add code to filter"
      ]
    },
    {
      "cell_type": "code",
      "execution_count": 23,
      "metadata": {
        "id": "sdyQsB2tiE04"
      },
      "outputs": [],
      "source": [
        "# Use the filter command to separate the datasets.\n",
        "# All interactions which were rated ON OR AFTER '2011-07-17' will be test data.\n",
        "\n",
        "test_interaction_level_all_recipies_df  = (interaction_level_df.filter(interaction_level_df.review_date >= '2011-07-17'))# add code to filter"
      ]
    },
    {
      "cell_type": "code",
      "source": [
        "assert (test_interaction_level_all_recipies_df.count(), len(test_interaction_level_all_recipies_df.columns)) == (18684, 18)\n",
        "assert (train_interaction_level_df.count(), len(train_interaction_level_df.columns)) == (74673, 18)"
      ],
      "metadata": {
        "id": "VTjbMPoCtV2u"
      },
      "execution_count": 24,
      "outputs": []
    },
    {
      "cell_type": "code",
      "execution_count": 25,
      "metadata": {
        "id": "hPnT-UZ5IwDa"
      },
      "outputs": [],
      "source": [
        "# create data files for modeling\n",
        "\n",
        "(train_interaction_level_df.coalesce(1)\n",
        "                           .write.mode('overwrite')\n",
        "                           .parquet('train_interaction_level_df.parquet'))  # change the file name and file path\n",
        "\n",
        "(test_interaction_level_all_recipies_df.coalesce(1)\n",
        "                                       .write.mode('overwrite')\n",
        "                                       .parquet('test_interaction_level_all_recipies_df.parquet'))  # change the file name and file path"
      ]
    }
  ],
  "metadata": {
    "colab": {
      "provenance": []
    },
    "kernelspec": {
      "display_name": "Python 3",
      "name": "python3"
    },
    "language_info": {
      "name": "python"
    }
  },
  "nbformat": 4,
  "nbformat_minor": 0
}